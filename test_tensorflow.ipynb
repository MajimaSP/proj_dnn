{
 "cells": [
  {
   "cell_type": "code",
   "execution_count": 1,
   "metadata": {},
   "outputs": [
    {
     "name": "stdout",
     "output_type": "stream",
     "text": [
      "b'hello Tensorflow!'\n"
     ]
    }
   ],
   "source": [
    "import tensorflow as tf\n",
    "hello = tf.constant(\"hello Tensorflow!\")\n",
    "sess = tf.Session()\n",
    "\n",
    "print(sess.run(hello))\n"
   ]
  },
  {
   "cell_type": "code",
   "execution_count": 3,
   "metadata": {},
   "outputs": [
    {
     "name": "stdout",
     "output_type": "stream",
     "text": [
      "10\n",
      "10\n"
     ]
    }
   ],
   "source": [
    "x = 1\n",
    "y = x + 9\n",
    "print(y)\n",
    "import tensorflow as tf\n",
    "x = tf.constant(1,name='x')\n",
    "x = tf.Variable(x+9,name='y')\n",
    "print(y)\n"
   ]
  },
  {
   "cell_type": "code",
   "execution_count": 19,
   "metadata": {},
   "outputs": [
    {
     "name": "stdout",
     "output_type": "stream",
     "text": [
      "[  1.3    1.     4.    23.99]\n",
      "1.3\n",
      "4.0\n",
      "====\n",
      "3\n",
      "x =  3\n",
      "tensor_1d.shape =  (4,)\n",
      "tensor_1d.dtype =  float64\n"
     ]
    }
   ],
   "source": [
    "# 1-dimension tensor\n",
    "\n",
    "import numpy as np\n",
    "tensor_1d = np.array([1.3, 1, 4.0, 23.99])\n",
    "print(tensor_1d)\n",
    "print(tensor_1d[0])\n",
    "print(tensor_1d[2])\n",
    "print(\"====\")\n",
    "\n",
    "x = 3\n",
    "print(x)\n",
    "print(\"x = \",x)\n",
    "\n",
    "# rank of tensor\n",
    "#print(\"tensor_1d.ndim = \", tensor_1d.ndim)\n",
    "\n",
    "# tuple\n",
    "print(\"tensor_1d.shape = \", tensor_1d.shape)\n",
    "\n",
    "# data type\n",
    "print(\"tensor_1d.dtype = \", tensor_1d.dtype)\n",
    "\n",
    "\n"
   ]
  },
  {
   "cell_type": "code",
   "execution_count": 31,
   "metadata": {},
   "outputs": [
    {
     "ename": "SyntaxError",
     "evalue": "invalid syntax (<ipython-input-31-e73ee1cd3ee6>, line 14)",
     "output_type": "error",
     "traceback": [
      "\u001b[0;36m  File \u001b[0;32m\"<ipython-input-31-e73ee1cd3ee6>\"\u001b[0;36m, line \u001b[0;32m14\u001b[0m\n\u001b[0;31m    print(tensor_2d[(0:3),(1:2)])\u001b[0m\n\u001b[0m                      ^\u001b[0m\n\u001b[0;31mSyntaxError\u001b[0m\u001b[0;31m:\u001b[0m invalid syntax\n"
     ]
    }
   ],
   "source": [
    "# 2-dimension tensor\n",
    "\n",
    "import numpy as np\n",
    "tensor_2d = np.array([(1,2,3,4),\n",
    "                      (4,5,6,7),\n",
    "                      (5,6,7,8),\n",
    "                      (12,13,15,16)])\n",
    "print(tensor_2d)\n",
    "print(tensor_2d[2][3])\n",
    "print(tensor_2d[0][1])\n",
    "print(tensor_2d[0:3][1])\n",
    "print(tensor_2d[0:3][2])\n",
    "print(tensor_2d[0:3][1:2])\n",
    "print(tensor_2d[0:3,1:2])"
   ]
  },
  {
   "cell_type": "code",
   "execution_count": 33,
   "metadata": {},
   "outputs": [
    {
     "name": "stdout",
     "output_type": "stream",
     "text": [
      "matrix1 =  [[2 2 2]\n",
      " [2 2 2]\n",
      " [2 2 2]]\n",
      "matrix2 =  [[1 1 1]\n",
      " [1 1 1]\n",
      " [1 1 1]]\n",
      "tf.matrix1 =  Tensor(\"Const_1:0\", shape=(3, 3), dtype=int32)\n",
      "tf.matrix2 =  Tensor(\"Const_2:0\", shape=(3, 3), dtype=int32)\n"
     ]
    }
   ],
   "source": [
    "import tensorflow as tf\n",
    "import numpy as np\n",
    "matrix1 = np.array([(2,2,2),(2,2,2),(2,2,2)],dtype='int32')\n",
    "matrix2 = np.array([(1,1,1),(1,1,1),(1,1,1)],dtype='int32')\n",
    "\n",
    "print(\"matrix1 = \", matrix1)\n",
    "print(\"matrix2 = \", matrix2)\n",
    "\n",
    "matrix1 = tf.constant(matrix1)\n",
    "matrix2 = tf.constant(matrix2)\n",
    "\n",
    "print(\"matrix1 = \", matrix1)\n",
    "print(\"matrix2 = \", matrix2)\n",
    "\n",
    "matrix_product = tf.matmul(matrix1, matrix2)\n",
    "matrix_sum = tf.add(matrix1,matrix2)\n"
   ]
  }
 ],
 "metadata": {
  "kernelspec": {
   "display_name": "Python 3",
   "language": "python",
   "name": "python3"
  },
  "language_info": {
   "codemirror_mode": {
    "name": "ipython",
    "version": 3
   },
   "file_extension": ".py",
   "mimetype": "text/x-python",
   "name": "python",
   "nbconvert_exporter": "python",
   "pygments_lexer": "ipython3",
   "version": "3.6.1"
  }
 },
 "nbformat": 4,
 "nbformat_minor": 2
}
