{
 "cells": [
  {
   "cell_type": "code",
   "execution_count": 1,
   "metadata": {},
   "outputs": [
    {
     "name": "stdout",
     "output_type": "stream",
     "text": [
      "INFO:tensorflow:Using default config.\n",
      "WARNING:tensorflow:Using temporary folder as model directory: /tmp/tmpuu2r7dd3\n",
      "INFO:tensorflow:Using config: {'_session_config': None, '_evaluation_master': '', '_num_ps_replicas': 0, '_task_type': None, '_task_id': 0, '_tf_config': gpu_options {\n",
      "  per_process_gpu_memory_fraction: 1.0\n",
      "}\n",
      ", '_is_chief': True, '_environment': 'local', '_model_dir': '/tmp/tmpuu2r7dd3', '_save_checkpoints_secs': 600, '_tf_random_seed': None, '_save_checkpoints_steps': None, '_master': '', '_cluster_spec': <tensorflow.python.training.server_lib.ClusterSpec object at 0x7fda10e6c198>, '_save_summary_steps': 100, '_num_worker_replicas': 0, '_keep_checkpoint_every_n_hours': 10000, '_keep_checkpoint_max': 5}\n",
      "WARNING:tensorflow:From /usr/local/lib/python3.5/dist-packages/tensorflow/contrib/learn/python/learn/estimators/head.py:625: scalar_summary (from tensorflow.python.ops.logging_ops) is deprecated and will be removed after 2016-11-30.\n",
      "Instructions for updating:\n",
      "Please switch to tf.summary.scalar. Note that tf.summary.scalar uses the node name instead of the tag. This means that TensorFlow will automatically de-duplicate summary names based on the scope they are created in. Also, passing a tensor or list of tags to a scalar summary op is no longer supported.\n",
      "INFO:tensorflow:Create CheckpointSaverHook.\n",
      "INFO:tensorflow:Saving checkpoints for 1 into /tmp/tmpuu2r7dd3/model.ckpt.\n",
      "INFO:tensorflow:loss = 5.5, step = 1\n",
      "INFO:tensorflow:global_step/sec: 1376.58\n",
      "INFO:tensorflow:loss = 0.0284899, step = 101 (0.073 sec)\n",
      "INFO:tensorflow:global_step/sec: 1439.28\n",
      "INFO:tensorflow:loss = 0.0319668, step = 201 (0.069 sec)\n",
      "INFO:tensorflow:global_step/sec: 1425.68\n",
      "INFO:tensorflow:loss = 0.00494806, step = 301 (0.070 sec)\n",
      "INFO:tensorflow:global_step/sec: 1216.24\n",
      "INFO:tensorflow:loss = 0.00325895, step = 401 (0.082 sec)\n",
      "INFO:tensorflow:global_step/sec: 1377.72\n",
      "INFO:tensorflow:loss = 0.000501349, step = 501 (0.073 sec)\n",
      "INFO:tensorflow:global_step/sec: 1391.64\n",
      "INFO:tensorflow:loss = 8.10926e-05, step = 601 (0.072 sec)\n",
      "INFO:tensorflow:global_step/sec: 1262.31\n",
      "INFO:tensorflow:loss = 1.21084e-05, step = 701 (0.079 sec)\n",
      "INFO:tensorflow:global_step/sec: 1356.76\n",
      "INFO:tensorflow:loss = 4.78193e-06, step = 801 (0.074 sec)\n",
      "INFO:tensorflow:global_step/sec: 1391.16\n",
      "INFO:tensorflow:loss = 1.00125e-06, step = 901 (0.072 sec)\n",
      "INFO:tensorflow:Saving checkpoints for 1000 into /tmp/tmpuu2r7dd3/model.ckpt.\n",
      "INFO:tensorflow:Loss for final step: 3.55711e-07.\n",
      "WARNING:tensorflow:From /usr/local/lib/python3.5/dist-packages/tensorflow/contrib/learn/python/learn/estimators/head.py:625: scalar_summary (from tensorflow.python.ops.logging_ops) is deprecated and will be removed after 2016-11-30.\n",
      "Instructions for updating:\n",
      "Please switch to tf.summary.scalar. Note that tf.summary.scalar uses the node name instead of the tag. This means that TensorFlow will automatically de-duplicate summary names based on the scope they are created in. Also, passing a tensor or list of tags to a scalar summary op is no longer supported.\n",
      "INFO:tensorflow:Starting evaluation at 2017-07-27-16:29:37\n",
      "INFO:tensorflow:Restoring parameters from /tmp/tmpuu2r7dd3/model.ckpt-1000\n",
      "INFO:tensorflow:Finished evaluation at 2017-07-27-16:29:38\n",
      "INFO:tensorflow:Saving dict for global step 1000: global_step = 1000, loss = 3.50758e-07\n",
      "WARNING:tensorflow:From /usr/local/lib/python3.5/dist-packages/tensorflow/contrib/learn/python/learn/estimators/head.py:625: scalar_summary (from tensorflow.python.ops.logging_ops) is deprecated and will be removed after 2016-11-30.\n",
      "Instructions for updating:\n",
      "Please switch to tf.summary.scalar. Note that tf.summary.scalar uses the node name instead of the tag. This means that TensorFlow will automatically de-duplicate summary names based on the scope they are created in. Also, passing a tensor or list of tags to a scalar summary op is no longer supported.\n",
      "INFO:tensorflow:Starting evaluation at 2017-07-27-16:29:38\n",
      "INFO:tensorflow:Restoring parameters from /tmp/tmpuu2r7dd3/model.ckpt-1000\n",
      "INFO:tensorflow:Finished evaluation at 2017-07-27-16:29:38\n",
      "INFO:tensorflow:Saving dict for global step 1000: global_step = 1000, loss = 0.00258074\n",
      "train loss: {'loss': 3.507576e-07, 'global_step': 1000}\n",
      "eval loss: {'loss': 0.0025807419, 'global_step': 1000}\n"
     ]
    }
   ],
   "source": [
    "import tensorflow as tf\n",
    "# NumPy is often used to load, manipulate and preprocess data.\n",
    "import numpy as np\n",
    "\n",
    "# Declare list of features. We only have one real-valued feature. There are many\n",
    "# other types of columns that are more complicated and useful.\n",
    "features = [tf.contrib.layers.real_valued_column(\"x\", dimension=1)]\n",
    "\n",
    "# An estimator is the front end to invoke training (fitting) and evaluation\n",
    "# (inference). There are many predefined types like linear regression,\n",
    "# logistic regression, linear classification, logistic classification, and\n",
    "# many neural network classifiers and regressors. The following code\n",
    "# provides an estimator that does linear regression.\n",
    "estimator = tf.contrib.learn.LinearRegressor(feature_columns=features)\n",
    "\n",
    "# TensorFlow provides many helper methods to read and set up data sets.\n",
    "# Here we use two data sets: one for training and one for evaluation\n",
    "# We have to tell the function how many batches\n",
    "# of data (num_epochs) we want and how big each batch should be.\n",
    "x_train = np.array([1., 2., 3., 4.])\n",
    "y_train = np.array([0., -1., -2., -3.])\n",
    "x_eval = np.array([2., 5., 8., 1.])\n",
    "y_eval = np.array([-1.01, -4.1, -7, 0.])\n",
    "input_fn = tf.contrib.learn.io.numpy_input_fn({\"x\":x_train}, y_train,\n",
    "                                              batch_size=4,\n",
    "                                              num_epochs=1000)\n",
    "eval_input_fn = tf.contrib.learn.io.numpy_input_fn(\n",
    "    {\"x\":x_eval}, y_eval, batch_size=4, num_epochs=1000)\n",
    "\n",
    "# We can invoke 1000 training steps by invoking the  method and passing the\n",
    "# training data set.\n",
    "estimator.fit(input_fn=input_fn, steps=1000)\n",
    "\n",
    "# Here we evaluate how well our model did.\n",
    "train_loss = estimator.evaluate(input_fn=input_fn)\n",
    "eval_loss = estimator.evaluate(input_fn=eval_input_fn)\n",
    "print(\"train loss: %r\"% train_loss)\n",
    "print(\"eval loss: %r\"% eval_loss)"
   ]
  },
  {
   "cell_type": "code",
   "execution_count": null,
   "metadata": {
    "collapsed": true
   },
   "outputs": [],
   "source": []
  }
 ],
 "metadata": {
  "kernelspec": {
   "display_name": "Python 3",
   "language": "python",
   "name": "python3"
  },
  "language_info": {
   "codemirror_mode": {
    "name": "ipython",
    "version": 3
   },
   "file_extension": ".py",
   "mimetype": "text/x-python",
   "name": "python",
   "nbconvert_exporter": "python",
   "pygments_lexer": "ipython3",
   "version": "3.5.2"
  }
 },
 "nbformat": 4,
 "nbformat_minor": 2
}
